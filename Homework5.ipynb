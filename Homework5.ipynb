{
 "cells": [
  {
   "cell_type": "code",
   "execution_count": 1,
   "id": "dddd2b36",
   "metadata": {},
   "outputs": [
    {
     "name": "stdout",
     "output_type": "stream",
     "text": [
      "Фильм \"Shawshank Redemption, The (1994)\" получил больше всего оценок 5.0: 153 раз(а).\n"
     ]
    }
   ],
   "source": [
    "import pandas as pd\n",
    "\n",
    "# Загрузка данных из файлов CSV с использованием относительных путей\n",
    "movies_df = pd.read_csv('movies.csv')\n",
    "ratings_df = pd.read_csv('ratings.csv')\n",
    "\n",
    "# Объединение данных по movieId\n",
    "merged_df = pd.merge(ratings_df, movies_df, on='movieId')\n",
    "\n",
    "# Фильтрация данных для оценок 5.0\n",
    "highly_rated_movies = merged_df[merged_df['rating'] == 5.0]\n",
    "\n",
    "# Подсчет количества оценок 5.0 для каждого фильма\n",
    "count_ratings = highly_rated_movies['title'].value_counts()\n",
    "\n",
    "# Находим фильм с максимальным количеством оценок 5.0\n",
    "max_rated_movie = count_ratings.idxmax()\n",
    "max_rating_count = count_ratings.max()\n",
    "\n",
    "print(f'Фильм \"{max_rated_movie}\" получил больше всего оценок 5.0: {max_rating_count} раз(а).')\n"
   ]
  },
  {
   "cell_type": "code",
   "execution_count": 9,
   "id": "b3f7e2ea",
   "metadata": {},
   "outputs": [
    {
     "name": "stdout",
     "output_type": "stream",
     "text": [
      "Суммарное потребление стран Прибалтики (Латвия, Литва, Эстония) по категориям [4, 12, 21] за период с 2005 по 2010 год: 240580.0\n"
     ]
    }
   ],
   "source": [
    "import pandas as pd\n",
    "\n",
    "# Загрузка данных из файла power.csv\n",
    "power_file_path = r'D:\\power.csv'\n",
    "power_columns = ['country', 'year', 'quantity', 'category']\n",
    "power_data = pd.read_csv(power_file_path, names=power_columns, dtype={'year': 'Int32', 'quantity': 'float64', 'category': 'Int32'}, skiprows=1)\n",
    "\n",
    "# Загрузка данных из файла Transactions.csv\n",
    "transactions_file_path = r'D:\\Transactions.csv'\n",
    "transactions_columns = ['Year', 'Month', 'ID', 'Product', 'Amount', 'Price', 'Total', 'Cost']\n",
    "transactions_data = pd.read_csv(transactions_file_path, header=None, names=transactions_columns)\n",
    "\n",
    "# Фильтрация данных по странам Прибалтики\n",
    "baltic_countries = ['Latvia', 'Lithuania', 'Estonia']\n",
    "baltic_power_data = power_data[power_data['country'].isin(baltic_countries)]\n",
    "\n",
    "# Фильтрация данных по категориям 4, 12 и 21\n",
    "selected_categories = [4, 12, 21]\n",
    "filtered_power_data = baltic_power_data[baltic_power_data['category'].isin(selected_categories)]\n",
    "\n",
    "# Фильтрация данных по периоду с 2005 по 2010 год\n",
    "filtered_power_data_period = filtered_power_data[(filtered_power_data['year'] >= 2005) & (filtered_power_data['year'] <= 2010)]\n",
    "\n",
    "# Исключение отрицательных значений quantity\n",
    "filtered_power_data_positive = filtered_power_data_period[filtered_power_data_period['quantity'] >= 0]\n",
    "\n",
    "# Вычисление суммарного потребления\n",
    "total_consumption = filtered_power_data_positive['quantity'].sum()\n",
    "\n",
    "print(f\"Суммарное потребление стран Прибалтики (Латвия, Литва, Эстония) по категориям {selected_categories} за период с 2005 по 2010 год: {total_consumption}\")\n"
   ]
  }
 ],
 "metadata": {
  "kernelspec": {
   "display_name": "Python 3 (ipykernel)",
   "language": "python",
   "name": "python3"
  },
  "language_info": {
   "codemirror_mode": {
    "name": "ipython",
    "version": 3
   },
   "file_extension": ".py",
   "mimetype": "text/x-python",
   "name": "python",
   "nbconvert_exporter": "python",
   "pygments_lexer": "ipython3",
   "version": "3.11.5"
  }
 },
 "nbformat": 4,
 "nbformat_minor": 5
}
